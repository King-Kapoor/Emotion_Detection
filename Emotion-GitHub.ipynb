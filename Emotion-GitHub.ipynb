{
 "cells": [
  {
   "cell_type": "code",
   "execution_count": 1,
   "metadata": {
    "executionInfo": {
     "elapsed": 1161,
     "status": "ok",
     "timestamp": 1611491194114,
     "user": {
      "displayName": "Devang Kapoor",
      "photoUrl": "",
      "userId": "06223887884088503186"
     },
     "user_tz": -330
    },
    "id": "hJSKNVN8cz3M"
   },
   "outputs": [],
   "source": [
    "import numpy as np\n",
    "import matplotlib.pyplot as plt\n",
    "import pandas as pd"
   ]
  },
  {
   "cell_type": "code",
   "execution_count": 2,
   "metadata": {
    "colab": {
     "base_uri": "https://localhost:8080/"
    },
    "executionInfo": {
     "elapsed": 29761,
     "status": "ok",
     "timestamp": 1611491222738,
     "user": {
      "displayName": "Devang Kapoor",
      "photoUrl": "",
      "userId": "06223887884088503186"
     },
     "user_tz": -330
    },
    "id": "hiWn4343vdyF",
    "outputId": "bd7ebcf1-e39d-4160-ddb2-97c2babca20d"
   },
   "outputs": [
    {
     "name": "stdout",
     "output_type": "stream",
     "text": [
      "Mounted at /content/drive\n"
     ]
    }
   ],
   "source": [
    "from google.colab import drive\n",
    "drive.mount('/content/drive')"
   ]
  },
  {
   "cell_type": "code",
   "execution_count": 3,
   "metadata": {
    "colab": {
     "base_uri": "https://localhost:8080/"
    },
    "executionInfo": {
     "elapsed": 29743,
     "status": "ok",
     "timestamp": 1611491222740,
     "user": {
      "displayName": "Devang Kapoor",
      "photoUrl": "",
      "userId": "06223887884088503186"
     },
     "user_tz": -330
    },
    "id": "ESgJXQXBwXyC",
    "outputId": "3c6c00bb-436e-4a2f-d7e8-150c6ff935af"
   },
   "outputs": [
    {
     "name": "stdout",
     "output_type": "stream",
     "text": [
      "drive  sample_data\n"
     ]
    }
   ],
   "source": [
    "!ls"
   ]
  },
  {
   "cell_type": "code",
   "execution_count": 4,
   "metadata": {
    "executionInfo": {
     "elapsed": 31436,
     "status": "ok",
     "timestamp": 1611491224451,
     "user": {
      "displayName": "Devang Kapoor",
      "photoUrl": "",
      "userId": "06223887884088503186"
     },
     "user_tz": -330
    },
    "id": "SXJgPc_XwfqN"
   },
   "outputs": [],
   "source": [
    "import tensorflow as tf\n",
    "from keras.preprocessing.image import ImageDataGenerator"
   ]
  },
  {
   "cell_type": "markdown",
   "metadata": {
    "id": "C-AuJumHwn0Q"
   },
   "source": [
    "## Part 1 - Data Preprocessing"
   ]
  },
  {
   "cell_type": "code",
   "execution_count": 5,
   "metadata": {
    "executionInfo": {
     "elapsed": 31422,
     "status": "ok",
     "timestamp": 1611491224452,
     "user": {
      "displayName": "Devang Kapoor",
      "photoUrl": "",
      "userId": "06223887884088503186"
     },
     "user_tz": -330
    },
    "id": "e9KrNWOxBKGT"
   },
   "outputs": [],
   "source": [
    "train_datagen = ImageDataGenerator(rescale=1./255,\n",
    "    shear_range=0.2,\n",
    "    zoom_range=0.2,\n",
    "    horizontal_flip=True,\n",
    "    validation_split=0.2,\n",
    "    )\n",
    "#    zca_whitening = True,\n",
    "#    featurewise_center=True"
   ]
  },
  {
   "cell_type": "code",
   "execution_count": 6,
   "metadata": {
    "colab": {
     "base_uri": "https://localhost:8080/"
    },
    "executionInfo": {
     "elapsed": 47693,
     "status": "ok",
     "timestamp": 1611491240738,
     "user": {
      "displayName": "Devang Kapoor",
      "photoUrl": "",
      "userId": "06223887884088503186"
     },
     "user_tz": -330
    },
    "id": "uT1nPQ2iBYgn",
    "outputId": "d1207c3f-2139-4d75-b00a-96f0cbd6e71b"
   },
   "outputs": [
    {
     "name": "stdout",
     "output_type": "stream",
     "text": [
      "Found 11146 images belonging to 6 classes.\n"
     ]
    }
   ],
   "source": [
    "train_data = train_datagen.flow_from_directory(directory='/content/drive/My Drive/Emotion Train', \n",
    "                                               target_size=(64, 64), \n",
    "                                               class_mode='categorical',\n",
    "                                               batch_size=64, \n",
    "                                               subset='training',\n",
    "                                               shuffle=True)"
   ]
  },
  {
   "cell_type": "code",
   "execution_count": 7,
   "metadata": {
    "colab": {
     "base_uri": "https://localhost:8080/"
    },
    "executionInfo": {
     "elapsed": 47680,
     "status": "ok",
     "timestamp": 1611491240741,
     "user": {
      "displayName": "Devang Kapoor",
      "photoUrl": "",
      "userId": "06223887884088503186"
     },
     "user_tz": -330
    },
    "id": "WygXyJP-Cc9l",
    "outputId": "7e476aa5-1236-4e66-ec83-0c6052330b47"
   },
   "outputs": [
    {
     "name": "stdout",
     "output_type": "stream",
     "text": [
      "Found 2783 images belonging to 6 classes.\n"
     ]
    }
   ],
   "source": [
    "validation_data = train_datagen.flow_from_directory(directory='/content/drive/My Drive/Emotion Train', \n",
    "                                                    target_size=(64, 64),\n",
    "                                                    batch_size=64,\n",
    "                                                    class_mode='categorical',\n",
    "                                                    subset='validation',\n",
    "                                                    shuffle=True)"
   ]
  },
  {
   "cell_type": "code",
   "execution_count": 8,
   "metadata": {
    "colab": {
     "base_uri": "https://localhost:8080/"
    },
    "executionInfo": {
     "elapsed": 47667,
     "status": "ok",
     "timestamp": 1611491240742,
     "user": {
      "displayName": "Devang Kapoor",
      "photoUrl": "",
      "userId": "06223887884088503186"
     },
     "user_tz": -330
    },
    "id": "B11psrqWaQpM",
    "outputId": "56b8bb2d-d62a-48ab-9a15-09bf521f0074"
   },
   "outputs": [
    {
     "data": {
      "text/plain": [
       "array([0, 0, 0, ..., 5, 5, 5], dtype=int32)"
      ]
     },
     "execution_count": 8,
     "metadata": {
      "tags": []
     },
     "output_type": "execute_result"
    }
   ],
   "source": [
    "train_data.labels"
   ]
  },
  {
   "cell_type": "markdown",
   "metadata": {
    "id": "VV8P1zUqjjae"
   },
   "source": [
    "## The Model"
   ]
  },
  {
   "cell_type": "code",
   "execution_count": 9,
   "metadata": {
    "executionInfo": {
     "elapsed": 6616,
     "status": "ok",
     "timestamp": 1611491257988,
     "user": {
      "displayName": "Devang Kapoor",
      "photoUrl": "",
      "userId": "06223887884088503186"
     },
     "user_tz": -330
    },
    "id": "wYRr8N23gteS"
   },
   "outputs": [],
   "source": [
    "cnn2 = tf.keras.models.Sequential()"
   ]
  },
  {
   "cell_type": "markdown",
   "metadata": {
    "id": "YVFT36oHlnoe"
   },
   "source": [
    "#### First set of layers"
   ]
  },
  {
   "cell_type": "code",
   "execution_count": 10,
   "metadata": {
    "executionInfo": {
     "elapsed": 5825,
     "status": "ok",
     "timestamp": 1611491257997,
     "user": {
      "displayName": "Devang Kapoor",
      "photoUrl": "",
      "userId": "06223887884088503186"
     },
     "user_tz": -330
    },
    "id": "urxe8bmljy9r"
   },
   "outputs": [],
   "source": [
    "cnn2.add(tf.keras.layers.Conv2D(filters=64, kernel_size=3, padding='same', activation='relu', input_shape=[64, 64, 3]))\n",
    "cnn2.add(tf.keras.layers.BatchNormalization())"
   ]
  },
  {
   "cell_type": "code",
   "execution_count": 11,
   "metadata": {
    "executionInfo": {
     "elapsed": 5606,
     "status": "ok",
     "timestamp": 1611491257999,
     "user": {
      "displayName": "Devang Kapoor",
      "photoUrl": "",
      "userId": "06223887884088503186"
     },
     "user_tz": -330
    },
    "id": "EOqcgQ3JjtDO"
   },
   "outputs": [],
   "source": [
    "cnn2.add(tf.keras.layers.Conv2D(filters=64, kernel_size=3, padding='same', activation='relu', input_shape=[64, 64, 3]))\n",
    "cnn2.add(tf.keras.layers.BatchNormalization())"
   ]
  },
  {
   "cell_type": "code",
   "execution_count": 12,
   "metadata": {
    "executionInfo": {
     "elapsed": 5432,
     "status": "ok",
     "timestamp": 1611491258001,
     "user": {
      "displayName": "Devang Kapoor",
      "photoUrl": "",
      "userId": "06223887884088503186"
     },
     "user_tz": -330
    },
    "id": "X5TVd_5pj0v-"
   },
   "outputs": [],
   "source": [
    "cnn2.add(tf.keras.layers.MaxPool2D(pool_size=2, strides=2, padding='valid'))"
   ]
  },
  {
   "cell_type": "code",
   "execution_count": 13,
   "metadata": {
    "executionInfo": {
     "elapsed": 5273,
     "status": "ok",
     "timestamp": 1611491258002,
     "user": {
      "displayName": "Devang Kapoor",
      "photoUrl": "",
      "userId": "06223887884088503186"
     },
     "user_tz": -330
    },
    "id": "twwTG3MVk0dw"
   },
   "outputs": [],
   "source": [
    "cnn2.add(tf.keras.layers.Dropout(0.5))"
   ]
  },
  {
   "cell_type": "markdown",
   "metadata": {
    "id": "PLvAefCGlqv-"
   },
   "source": [
    "#### Second set of layers"
   ]
  },
  {
   "cell_type": "code",
   "execution_count": 14,
   "metadata": {
    "executionInfo": {
     "elapsed": 2542,
     "status": "ok",
     "timestamp": 1611491258004,
     "user": {
      "displayName": "Devang Kapoor",
      "photoUrl": "",
      "userId": "06223887884088503186"
     },
     "user_tz": -330
    },
    "id": "To-EbFiVk0hj"
   },
   "outputs": [],
   "source": [
    "cnn2.add(tf.keras.layers.Conv2D(filters=128, kernel_size=3, padding='same', activation='relu'))\n",
    "cnn2.add(tf.keras.layers.BatchNormalization())\n",
    "cnn2.add(tf.keras.layers.Conv2D(filters=128, kernel_size=3, padding='same', activation='relu'))\n",
    "cnn2.add(tf.keras.layers.BatchNormalization())\n",
    "cnn2.add(tf.keras.layers.MaxPool2D(pool_size=2, strides=2, padding='valid'))\n",
    "cnn2.add(tf.keras.layers.Dropout(0.5))"
   ]
  },
  {
   "cell_type": "markdown",
   "metadata": {
    "id": "GU7CFvXTltYi"
   },
   "source": [
    "#### Third set of layers"
   ]
  },
  {
   "cell_type": "code",
   "execution_count": 15,
   "metadata": {
    "executionInfo": {
     "elapsed": 1984,
     "status": "ok",
     "timestamp": 1611491258005,
     "user": {
      "displayName": "Devang Kapoor",
      "photoUrl": "",
      "userId": "06223887884088503186"
     },
     "user_tz": -330
    },
    "id": "bRmPPU_TlDK5"
   },
   "outputs": [],
   "source": [
    "cnn2.add(tf.keras.layers.Conv2D(filters=256, kernel_size=3, padding='same', activation='relu'))\n",
    "cnn2.add(tf.keras.layers.BatchNormalization())\n",
    "cnn2.add(tf.keras.layers.Conv2D(filters=256, kernel_size=3, padding='same', activation='relu'))\n",
    "cnn2.add(tf.keras.layers.BatchNormalization())\n",
    "cnn2.add(tf.keras.layers.MaxPool2D(pool_size=2, strides=2, padding='valid'))\n",
    "cnn2.add(tf.keras.layers.Dropout(0.5))"
   ]
  },
  {
   "cell_type": "code",
   "execution_count": 16,
   "metadata": {
    "executionInfo": {
     "elapsed": 1138,
     "status": "ok",
     "timestamp": 1611491258006,
     "user": {
      "displayName": "Devang Kapoor",
      "photoUrl": "",
      "userId": "06223887884088503186"
     },
     "user_tz": -330
    },
    "id": "2KFzl-sMlDOr"
   },
   "outputs": [],
   "source": [
    "cnn2.add(tf.keras.layers.Flatten())"
   ]
  },
  {
   "cell_type": "markdown",
   "metadata": {
    "id": "Xg0qer5xqqJZ"
   },
   "source": [
    "### FC NN"
   ]
  },
  {
   "cell_type": "code",
   "execution_count": 17,
   "metadata": {
    "executionInfo": {
     "elapsed": 1421,
     "status": "ok",
     "timestamp": 1611491260583,
     "user": {
      "displayName": "Devang Kapoor",
      "photoUrl": "",
      "userId": "06223887884088503186"
     },
     "user_tz": -330
    },
    "id": "_2GCFHNKmEy2"
   },
   "outputs": [],
   "source": [
    "cnn2.add(tf.keras.layers.Dense(units=256, activation='relu'))"
   ]
  },
  {
   "cell_type": "code",
   "execution_count": 18,
   "metadata": {
    "executionInfo": {
     "elapsed": 1190,
     "status": "ok",
     "timestamp": 1611491260584,
     "user": {
      "displayName": "Devang Kapoor",
      "photoUrl": "",
      "userId": "06223887884088503186"
     },
     "user_tz": -330
    },
    "id": "-pZhZKnfnJHG"
   },
   "outputs": [],
   "source": [
    "cnn2.add(tf.keras.layers.Dropout(0.5))"
   ]
  },
  {
   "cell_type": "code",
   "execution_count": 19,
   "metadata": {
    "executionInfo": {
     "elapsed": 1461,
     "status": "ok",
     "timestamp": 1611491261018,
     "user": {
      "displayName": "Devang Kapoor",
      "photoUrl": "",
      "userId": "06223887884088503186"
     },
     "user_tz": -330
    },
    "id": "NzfxXcMWmE25"
   },
   "outputs": [],
   "source": [
    "cnn2.add(tf.keras.layers.Dense(units=128, activation='relu'))"
   ]
  },
  {
   "cell_type": "code",
   "execution_count": 20,
   "metadata": {
    "executionInfo": {
     "elapsed": 1288,
     "status": "ok",
     "timestamp": 1611491261020,
     "user": {
      "displayName": "Devang Kapoor",
      "photoUrl": "",
      "userId": "06223887884088503186"
     },
     "user_tz": -330
    },
    "id": "wfGOIbTVnVZf"
   },
   "outputs": [],
   "source": [
    "cnn2.add(tf.keras.layers.Dropout(0.5))"
   ]
  },
  {
   "cell_type": "code",
   "execution_count": 21,
   "metadata": {
    "executionInfo": {
     "elapsed": 1136,
     "status": "ok",
     "timestamp": 1611491261022,
     "user": {
      "displayName": "Devang Kapoor",
      "photoUrl": "",
      "userId": "06223887884088503186"
     },
     "user_tz": -330
    },
    "id": "_6krmmXBmf6r"
   },
   "outputs": [],
   "source": [
    "cnn2.add(tf.keras.layers.Dense(units=64, activation='relu'))"
   ]
  },
  {
   "cell_type": "code",
   "execution_count": 22,
   "metadata": {
    "executionInfo": {
     "elapsed": 1647,
     "status": "ok",
     "timestamp": 1611491264147,
     "user": {
      "displayName": "Devang Kapoor",
      "photoUrl": "",
      "userId": "06223887884088503186"
     },
     "user_tz": -330
    },
    "id": "eBN1yHtpmgfn"
   },
   "outputs": [],
   "source": [
    "cnn2.add(tf.keras.layers.Dropout(0.5))"
   ]
  },
  {
   "cell_type": "code",
   "execution_count": 23,
   "metadata": {
    "executionInfo": {
     "elapsed": 1432,
     "status": "ok",
     "timestamp": 1611491264149,
     "user": {
      "displayName": "Devang Kapoor",
      "photoUrl": "",
      "userId": "06223887884088503186"
     },
     "user_tz": -330
    },
    "id": "J7vORBkdnmyk"
   },
   "outputs": [],
   "source": [
    "cnn2.add(tf.keras.layers.Dense(units=6, activation='relu'))"
   ]
  },
  {
   "cell_type": "code",
   "execution_count": 24,
   "metadata": {
    "executionInfo": {
     "elapsed": 675,
     "status": "ok",
     "timestamp": 1611491276580,
     "user": {
      "displayName": "Devang Kapoor",
      "photoUrl": "",
      "userId": "06223887884088503186"
     },
     "user_tz": -330
    },
    "id": "g29vIiPEn9yB"
   },
   "outputs": [],
   "source": [
    "cnn2.compile(optimizer = 'adam', loss = 'categorical_crossentropy', metrics = ['accuracy'])"
   ]
  },
  {
   "cell_type": "code",
   "execution_count": 25,
   "metadata": {
    "colab": {
     "base_uri": "https://localhost:8080/"
    },
    "executionInfo": {
     "elapsed": 388095,
     "status": "ok",
     "timestamp": 1611505782889,
     "user": {
      "displayName": "Devang Kapoor",
      "photoUrl": "",
      "userId": "06223887884088503186"
     },
     "user_tz": -330
    },
    "id": "pOdWwGQ1n92A",
    "outputId": "90c5f72b-1f7d-4521-9e54-0d8ea2ffa40e"
   },
   "outputs": [
    {
     "name": "stdout",
     "output_type": "stream",
     "text": [
      "Epoch 1/100\n",
      "174/174 [==============================] - 3398s 20s/step - loss: nan - accuracy: 0.1810 - val_loss: 1.7947 - val_accuracy: 0.1672\n",
      "Epoch 2/100\n",
      "174/174 [==============================] - 113s 650ms/step - loss: 1.9413 - accuracy: 0.1669 - val_loss: 1.7844 - val_accuracy: 0.2100\n",
      "Epoch 3/100\n",
      "174/174 [==============================] - 112s 647ms/step - loss: 1.8514 - accuracy: 0.1808 - val_loss: 1.7821 - val_accuracy: 0.2089\n",
      "Epoch 4/100\n",
      "174/174 [==============================] - 112s 646ms/step - loss: 1.8219 - accuracy: 0.1888 - val_loss: 1.7846 - val_accuracy: 0.2089\n",
      "Epoch 5/100\n",
      "174/174 [==============================] - 113s 648ms/step - loss: 1.8118 - accuracy: 0.1893 - val_loss: 1.7892 - val_accuracy: 0.2097\n",
      "Epoch 6/100\n",
      "174/174 [==============================] - 113s 647ms/step - loss: 1.7911 - accuracy: 0.2094 - val_loss: 1.7935 - val_accuracy: 0.2104\n",
      "Epoch 7/100\n",
      "174/174 [==============================] - 113s 648ms/step - loss: 1.7963 - accuracy: 0.2022 - val_loss: 1.8186 - val_accuracy: 0.2122\n",
      "Epoch 8/100\n",
      "174/174 [==============================] - 113s 649ms/step - loss: 1.7848 - accuracy: 0.2109 - val_loss: 1.8596 - val_accuracy: 0.2049\n",
      "Epoch 9/100\n",
      "174/174 [==============================] - 113s 649ms/step - loss: 1.7690 - accuracy: 0.2282 - val_loss: 1.9321 - val_accuracy: 0.1820\n",
      "Epoch 10/100\n",
      "174/174 [==============================] - 113s 650ms/step - loss: 1.7701 - accuracy: 0.2322 - val_loss: 1.8343 - val_accuracy: 0.1570\n",
      "Epoch 11/100\n",
      "174/174 [==============================] - 112s 646ms/step - loss: 1.7131 - accuracy: 0.2682 - val_loss: 1.7041 - val_accuracy: 0.3314\n",
      "Epoch 12/100\n",
      "174/174 [==============================] - 112s 645ms/step - loss: 1.6361 - accuracy: 0.4067 - val_loss: 5.1762 - val_accuracy: 0.3092\n",
      "Epoch 13/100\n",
      "174/174 [==============================] - 113s 648ms/step - loss: 1.5915 - accuracy: 0.4263 - val_loss: 1.8482 - val_accuracy: 0.2267\n",
      "Epoch 14/100\n",
      "174/174 [==============================] - 112s 645ms/step - loss: 1.4277 - accuracy: 0.4654 - val_loss: 2.2403 - val_accuracy: 0.2500\n",
      "Epoch 15/100\n",
      "174/174 [==============================] - 112s 645ms/step - loss: 1.6080 - accuracy: 0.4398 - val_loss: 4.9331 - val_accuracy: 0.3467\n",
      "Epoch 16/100\n",
      "174/174 [==============================] - 113s 647ms/step - loss: 1.6169 - accuracy: 0.3734 - val_loss: 1.8987 - val_accuracy: 0.4313\n",
      "Epoch 17/100\n",
      "174/174 [==============================] - 113s 649ms/step - loss: 1.2834 - accuracy: 0.5298 - val_loss: 2.0941 - val_accuracy: 0.4782\n",
      "Epoch 18/100\n",
      "174/174 [==============================] - 112s 646ms/step - loss: 1.8246 - accuracy: 0.4272 - val_loss: 1.9522 - val_accuracy: 0.3626\n",
      "Epoch 19/100\n",
      "174/174 [==============================] - 112s 646ms/step - loss: 1.2610 - accuracy: 0.5418 - val_loss: 3.3890 - val_accuracy: 0.4320\n",
      "Epoch 20/100\n",
      "174/174 [==============================] - 112s 646ms/step - loss: 1.2698 - accuracy: 0.5552 - val_loss: 2.0564 - val_accuracy: 0.4600\n",
      "Epoch 21/100\n",
      "174/174 [==============================] - 113s 647ms/step - loss: 1.1761 - accuracy: 0.5661 - val_loss: 2.2503 - val_accuracy: 0.4858\n",
      "Epoch 22/100\n",
      "174/174 [==============================] - 113s 649ms/step - loss: 1.0488 - accuracy: 0.6160 - val_loss: 10.4317 - val_accuracy: 0.1940\n",
      "Epoch 23/100\n",
      "174/174 [==============================] - 112s 643ms/step - loss: 1.9264 - accuracy: 0.2727 - val_loss: 1.9305 - val_accuracy: 0.2987\n",
      "Epoch 24/100\n",
      "174/174 [==============================] - 112s 645ms/step - loss: 1.5295 - accuracy: 0.3536 - val_loss: 8.1160 - val_accuracy: 0.1839\n",
      "Epoch 25/100\n",
      "174/174 [==============================] - 112s 642ms/step - loss: 1.3554 - accuracy: 0.4650 - val_loss: 4.2151 - val_accuracy: 0.3463\n",
      "Epoch 26/100\n",
      "174/174 [==============================] - 112s 642ms/step - loss: 1.1349 - accuracy: 0.5706 - val_loss: 2.8973 - val_accuracy: 0.4684\n",
      "Epoch 27/100\n",
      "174/174 [==============================] - 112s 646ms/step - loss: 1.9883 - accuracy: 0.3086 - val_loss: 1.8594 - val_accuracy: 0.2834\n",
      "Epoch 28/100\n",
      "174/174 [==============================] - 112s 643ms/step - loss: 1.4812 - accuracy: 0.3664 - val_loss: 1.7210 - val_accuracy: 0.2682\n",
      "Epoch 29/100\n",
      "174/174 [==============================] - 112s 644ms/step - loss: 1.3693 - accuracy: 0.4390 - val_loss: 1.8705 - val_accuracy: 0.3536\n",
      "Epoch 30/100\n",
      "174/174 [==============================] - 112s 645ms/step - loss: 1.2359 - accuracy: 0.5227 - val_loss: 1.8140 - val_accuracy: 0.4520\n",
      "Epoch 31/100\n",
      "174/174 [==============================] - 112s 645ms/step - loss: 1.1019 - accuracy: 0.5959 - val_loss: 2.0700 - val_accuracy: 0.4931\n",
      "Epoch 32/100\n",
      "174/174 [==============================] - 112s 643ms/step - loss: 1.0096 - accuracy: 0.6327 - val_loss: 2.6770 - val_accuracy: 0.4150\n",
      "Epoch 33/100\n",
      "174/174 [==============================] - 112s 645ms/step - loss: 0.9785 - accuracy: 0.6240 - val_loss: 2.2000 - val_accuracy: 0.4738\n",
      "Epoch 34/100\n",
      "174/174 [==============================] - 112s 643ms/step - loss: 0.9555 - accuracy: 0.6547 - val_loss: 1.9771 - val_accuracy: 0.4702\n",
      "Epoch 35/100\n",
      "174/174 [==============================] - 113s 647ms/step - loss: 0.8961 - accuracy: 0.6558 - val_loss: 2.4166 - val_accuracy: 0.4666\n",
      "Epoch 36/100\n",
      "174/174 [==============================] - 112s 644ms/step - loss: 0.8363 - accuracy: 0.6637 - val_loss: 2.9049 - val_accuracy: 0.5436\n",
      "Epoch 37/100\n",
      "174/174 [==============================] - 112s 645ms/step - loss: 0.8665 - accuracy: 0.6708 - val_loss: 3.1108 - val_accuracy: 0.4640\n",
      "Epoch 38/100\n",
      "174/174 [==============================] - 112s 645ms/step - loss: 0.8376 - accuracy: 0.6824 - val_loss: 2.3022 - val_accuracy: 0.5331\n",
      "Epoch 39/100\n",
      "174/174 [==============================] - 112s 644ms/step - loss: 1.0343 - accuracy: 0.6545 - val_loss: 2.3853 - val_accuracy: 0.4724\n",
      "Epoch 40/100\n",
      "174/174 [==============================] - 112s 644ms/step - loss: 0.8427 - accuracy: 0.6863 - val_loss: 2.6483 - val_accuracy: 0.5047\n",
      "Epoch 41/100\n",
      "174/174 [==============================] - 112s 645ms/step - loss: 1.0955 - accuracy: 0.6534 - val_loss: 2.0047 - val_accuracy: 0.4822\n",
      "Epoch 42/100\n",
      "174/174 [==============================] - 112s 642ms/step - loss: 0.9188 - accuracy: 0.6611 - val_loss: 3.0076 - val_accuracy: 0.3761\n",
      "Epoch 43/100\n",
      "174/174 [==============================] - 112s 643ms/step - loss: 0.8051 - accuracy: 0.7042 - val_loss: 2.4837 - val_accuracy: 0.4735\n",
      "Epoch 44/100\n",
      "174/174 [==============================] - 112s 644ms/step - loss: 0.7886 - accuracy: 0.7010 - val_loss: 2.7303 - val_accuracy: 0.4673\n",
      "Epoch 45/100\n",
      "174/174 [==============================] - 112s 643ms/step - loss: 0.7234 - accuracy: 0.7148 - val_loss: 3.2227 - val_accuracy: 0.4931\n",
      "Epoch 46/100\n",
      "174/174 [==============================] - 112s 643ms/step - loss: 0.6823 - accuracy: 0.7274 - val_loss: 4.1821 - val_accuracy: 0.3463\n",
      "Epoch 47/100\n",
      "174/174 [==============================] - 112s 646ms/step - loss: nan - accuracy: 0.7291 - val_loss: 4.4454 - val_accuracy: 0.3830\n",
      "Epoch 48/100\n",
      "174/174 [==============================] - 112s 643ms/step - loss: 0.7856 - accuracy: 0.7198 - val_loss: 4.3999 - val_accuracy: 0.3252\n",
      "Epoch 49/100\n",
      "174/174 [==============================] - 112s 646ms/step - loss: 1.2195 - accuracy: 0.6062 - val_loss: 2.4953 - val_accuracy: 0.4466\n",
      "Epoch 50/100\n",
      "174/174 [==============================] - 112s 644ms/step - loss: 0.7906 - accuracy: 0.7017 - val_loss: 2.3478 - val_accuracy: 0.4008\n",
      "Epoch 51/100\n",
      "174/174 [==============================] - 112s 643ms/step - loss: 0.7303 - accuracy: 0.7273 - val_loss: 3.7962 - val_accuracy: 0.3078\n",
      "Epoch 52/100\n",
      "174/174 [==============================] - 112s 644ms/step - loss: 0.7200 - accuracy: 0.7300 - val_loss: 3.0074 - val_accuracy: 0.4157\n",
      "Epoch 53/100\n",
      "174/174 [==============================] - 112s 642ms/step - loss: 0.6357 - accuracy: 0.7640 - val_loss: 2.9002 - val_accuracy: 0.4466\n",
      "Epoch 54/100\n",
      "174/174 [==============================] - 112s 642ms/step - loss: 0.7143 - accuracy: 0.7418 - val_loss: 2.5175 - val_accuracy: 0.4222\n",
      "Epoch 55/100\n",
      "174/174 [==============================] - 112s 645ms/step - loss: 0.6210 - accuracy: 0.7685 - val_loss: 2.8009 - val_accuracy: 0.4448\n",
      "Epoch 56/100\n",
      "174/174 [==============================] - 112s 644ms/step - loss: nan - accuracy: 0.8004 - val_loss: 3.6292 - val_accuracy: 0.4520\n",
      "Epoch 57/100\n",
      "174/174 [==============================] - 112s 644ms/step - loss: 0.5351 - accuracy: 0.8148 - val_loss: 3.3083 - val_accuracy: 0.4440\n",
      "Epoch 58/100\n",
      "174/174 [==============================] - 113s 648ms/step - loss: 0.4796 - accuracy: 0.8298 - val_loss: 3.9921 - val_accuracy: 0.4248\n",
      "Epoch 59/100\n",
      "174/174 [==============================] - 112s 644ms/step - loss: 0.7982 - accuracy: 0.7911 - val_loss: 3.3233 - val_accuracy: 0.4411\n",
      "Epoch 60/100\n",
      "174/174 [==============================] - 112s 645ms/step - loss: 0.6363 - accuracy: 0.7870 - val_loss: 3.5610 - val_accuracy: 0.4233\n",
      "Epoch 61/100\n",
      "174/174 [==============================] - 112s 646ms/step - loss: nan - accuracy: 0.8323 - val_loss: 8.1988 - val_accuracy: 0.3368\n",
      "Epoch 62/100\n",
      "174/174 [==============================] - 112s 644ms/step - loss: 1.1916 - accuracy: 0.6355 - val_loss: 4.8887 - val_accuracy: 0.4197\n",
      "Epoch 63/100\n",
      "174/174 [==============================] - 112s 647ms/step - loss: 0.7976 - accuracy: 0.7378 - val_loss: 3.0864 - val_accuracy: 0.3725\n",
      "Epoch 64/100\n",
      "174/174 [==============================] - 112s 647ms/step - loss: 0.6518 - accuracy: 0.7898 - val_loss: 2.6428 - val_accuracy: 0.3815\n",
      "Epoch 65/100\n",
      "174/174 [==============================] - 112s 645ms/step - loss: 0.8808 - accuracy: 0.7141 - val_loss: 5.3670 - val_accuracy: 0.3677\n",
      "Epoch 66/100\n",
      "174/174 [==============================] - 113s 652ms/step - loss: 0.6942 - accuracy: 0.7728 - val_loss: 3.4751 - val_accuracy: 0.3903\n",
      "Epoch 67/100\n",
      "174/174 [==============================] - 112s 644ms/step - loss: 0.6061 - accuracy: 0.7999 - val_loss: 3.3973 - val_accuracy: 0.4110\n",
      "Epoch 68/100\n",
      "174/174 [==============================] - 113s 648ms/step - loss: 0.5535 - accuracy: 0.8241 - val_loss: 3.9880 - val_accuracy: 0.3757\n",
      "Epoch 69/100\n",
      "174/174 [==============================] - 113s 647ms/step - loss: 1.9586 - accuracy: 0.5078 - val_loss: 2.4905 - val_accuracy: 0.3438\n",
      "Epoch 70/100\n",
      "174/174 [==============================] - 112s 644ms/step - loss: 1.1265 - accuracy: 0.5990 - val_loss: 3.8294 - val_accuracy: 0.4313\n",
      "Epoch 71/100\n",
      "174/174 [==============================] - 112s 645ms/step - loss: 0.9190 - accuracy: 0.6634 - val_loss: 2.4197 - val_accuracy: 0.4066\n",
      "Epoch 72/100\n",
      "174/174 [==============================] - 112s 644ms/step - loss: 0.7131 - accuracy: 0.7546 - val_loss: nan - val_accuracy: 0.4237\n",
      "Epoch 73/100\n",
      "174/174 [==============================] - 111s 641ms/step - loss: 0.6724 - accuracy: 0.7766 - val_loss: 2.5916 - val_accuracy: 0.4324\n",
      "Epoch 74/100\n",
      "174/174 [==============================] - 113s 647ms/step - loss: 0.5750 - accuracy: 0.7993 - val_loss: 2.9076 - val_accuracy: 0.4062\n",
      "Epoch 75/100\n",
      "174/174 [==============================] - 112s 642ms/step - loss: 0.5154 - accuracy: 0.8348 - val_loss: 2.8023 - val_accuracy: 0.4001\n",
      "Epoch 76/100\n",
      "174/174 [==============================] - 112s 642ms/step - loss: 0.5048 - accuracy: 0.8449 - val_loss: 2.9079 - val_accuracy: 0.3993\n",
      "Epoch 77/100\n",
      "174/174 [==============================] - 112s 643ms/step - loss: 0.4683 - accuracy: 0.8668 - val_loss: 3.1376 - val_accuracy: 0.4088\n",
      "Epoch 78/100\n",
      "174/174 [==============================] - 111s 637ms/step - loss: 0.5676 - accuracy: 0.8280 - val_loss: 2.9995 - val_accuracy: 0.4066\n",
      "Epoch 79/100\n",
      "174/174 [==============================] - 111s 636ms/step - loss: 0.7446 - accuracy: 0.8072 - val_loss: 3.0167 - val_accuracy: 0.4615\n",
      "Epoch 80/100\n",
      "174/174 [==============================] - 111s 639ms/step - loss: 0.4933 - accuracy: 0.8562 - val_loss: 3.1563 - val_accuracy: 0.3837\n",
      "Epoch 81/100\n",
      "174/174 [==============================] - 110s 634ms/step - loss: 0.4175 - accuracy: 0.8789 - val_loss: 3.3288 - val_accuracy: 0.4331\n",
      "Epoch 82/100\n",
      "174/174 [==============================] - 110s 635ms/step - loss: 0.5624 - accuracy: 0.8363 - val_loss: nan - val_accuracy: 0.3688\n",
      "Epoch 83/100\n",
      "174/174 [==============================] - 110s 635ms/step - loss: nan - accuracy: 0.8630 - val_loss: nan - val_accuracy: 0.4110\n",
      "Epoch 84/100\n",
      "174/174 [==============================] - 111s 641ms/step - loss: 0.4784 - accuracy: 0.8726 - val_loss: 4.0860 - val_accuracy: 0.3677\n",
      "Epoch 85/100\n",
      "174/174 [==============================] - 112s 646ms/step - loss: 0.4645 - accuracy: 0.8674 - val_loss: 3.4062 - val_accuracy: 0.3877\n",
      "Epoch 86/100\n",
      "174/174 [==============================] - 112s 643ms/step - loss: 0.3719 - accuracy: 0.8967 - val_loss: 3.8240 - val_accuracy: 0.4012\n",
      "Epoch 87/100\n",
      "174/174 [==============================] - 112s 642ms/step - loss: 0.3604 - accuracy: 0.9023 - val_loss: 3.8137 - val_accuracy: 0.4222\n",
      "Epoch 88/100\n",
      "174/174 [==============================] - 112s 642ms/step - loss: 0.3011 - accuracy: 0.9197 - val_loss: nan - val_accuracy: 0.4222\n",
      "Epoch 89/100\n",
      "174/174 [==============================] - 111s 640ms/step - loss: 0.3560 - accuracy: 0.9077 - val_loss: 3.7769 - val_accuracy: 0.4306\n",
      "Epoch 90/100\n",
      "174/174 [==============================] - 112s 642ms/step - loss: 0.2944 - accuracy: 0.9276 - val_loss: nan - val_accuracy: 0.4230\n",
      "Epoch 91/100\n",
      "174/174 [==============================] - 112s 642ms/step - loss: 0.2681 - accuracy: 0.9414 - val_loss: 4.5277 - val_accuracy: 0.4124\n",
      "Epoch 92/100\n",
      "174/174 [==============================] - 111s 637ms/step - loss: 0.2842 - accuracy: 0.9346 - val_loss: 4.9691 - val_accuracy: 0.4320\n",
      "Epoch 93/100\n",
      "174/174 [==============================] - 111s 640ms/step - loss: 0.2351 - accuracy: 0.9466 - val_loss: nan - val_accuracy: 0.4477\n",
      "Epoch 94/100\n",
      "174/174 [==============================] - 111s 636ms/step - loss: 0.2267 - accuracy: 0.9502 - val_loss: 5.5870 - val_accuracy: 0.4135\n",
      "Epoch 95/100\n",
      "174/174 [==============================] - 111s 638ms/step - loss: nan - accuracy: 0.9356 - val_loss: 4.3208 - val_accuracy: 0.4382\n",
      "Epoch 96/100\n",
      "174/174 [==============================] - 110s 635ms/step - loss: nan - accuracy: 0.9460 - val_loss: nan - val_accuracy: 0.4655\n",
      "Epoch 97/100\n",
      "174/174 [==============================] - 111s 637ms/step - loss: 0.2609 - accuracy: 0.9473 - val_loss: nan - val_accuracy: 0.4684\n",
      "Epoch 98/100\n",
      "174/174 [==============================] - 111s 639ms/step - loss: 0.2400 - accuracy: 0.9528 - val_loss: nan - val_accuracy: 0.4237\n",
      "Epoch 99/100\n",
      "174/174 [==============================] - 111s 640ms/step - loss: nan - accuracy: 0.9448 - val_loss: nan - val_accuracy: 0.4913\n",
      "Epoch 100/100\n",
      "174/174 [==============================] - 111s 639ms/step - loss: nan - accuracy: 0.9468 - val_loss: nan - val_accuracy: 0.4691\n"
     ]
    },
    {
     "data": {
      "application/vnd.google.colaboratory.intrinsic+json": {
       "type": "string"
      },
      "text/plain": [
       "'cnn2.fit_generator(\\n    train_data,\\n    steps_per_epoch = train_data.samples // 64,\\n    validation_data = validation_data, \\n    validation_steps = validation_data.samples // 64,\\n    epochs = 100)'"
      ]
     },
     "execution_count": 25,
     "metadata": {
      "tags": []
     },
     "output_type": "execute_result"
    }
   ],
   "source": [
    "cnn2.fit(\n",
    "    train_data,\n",
    "    steps_per_epoch = train_data.samples // 64,\n",
    "    validation_data = validation_data, \n",
    "    validation_steps = validation_data.samples // 64,\n",
    "    epochs = 100\n",
    ")\n",
    "\n",
    "\n",
    "'''cnn2.fit_generator(\n",
    "    train_data,\n",
    "    steps_per_epoch = train_data.samples // 64,\n",
    "    validation_data = validation_data, \n",
    "    validation_steps = validation_data.samples // 64,\n",
    "    epochs = 100)'''"
   ]
  },
  {
   "cell_type": "markdown",
   "metadata": {
    "id": "0nKpHhLLT-N_"
   },
   "source": [
    "### Making a single prediction"
   ]
  },
  {
   "cell_type": "code",
   "execution_count": 26,
   "metadata": {
    "executionInfo": {
     "elapsed": 1372,
     "status": "ok",
     "timestamp": 1611506339668,
     "user": {
      "displayName": "Devang Kapoor",
      "photoUrl": "",
      "userId": "06223887884088503186"
     },
     "user_tz": -330
    },
    "id": "yN3UFEOeVCh0"
   },
   "outputs": [],
   "source": [
    "train_data.class_indices?"
   ]
  },
  {
   "cell_type": "code",
   "execution_count": null,
   "metadata": {
    "id": "nBIU_IWeoZEG"
   },
   "outputs": [],
   "source": [
    "from keras.preprocessing import image\n",
    "def Pred(location):\n",
    "    test_image = image.load_img(location, target_size = (64, 64))\n",
    "    test_image = image.img_to_array(test_image)\n",
    "    test_image = np.expand_dims(test_image, axis = 0)\n",
    "    result = cnn2.predict(test_image)\n",
    "  #train_data.class_indices?\n",
    "    if(result[0][0] == 0):\n",
    "        prediction = 'anger'\n",
    "    elif(result[0][0] == 1):\n",
    "        prediction = 'disgust'\n",
    "    elif(result[0][0] == 2):\n",
    "        prediction = 'happy'      \n",
    "    elif(result[0][0] == 3):\n",
    "        prediction = 'neutral'\n",
    "    elif(result[0][0] == 4):\n",
    "        prediction = 'sad'\n",
    "    else:\n",
    "        prediction = 'surprise'\n",
    "    return prediction"
   ]
  },
  {
   "cell_type": "code",
   "execution_count": null,
   "metadata": {
    "id": "XTXlIeAiUNXg"
   },
   "outputs": [],
   "source": [
    "Pred('/content/drive/My Drive/dataset/single_prediction/happy101.jpg')"
   ]
  },
  {
   "cell_type": "code",
   "execution_count": null,
   "metadata": {
    "id": "b0z58l8lWjOu"
   },
   "outputs": [],
   "source": [
    "Pred('/content/drive/My Drive/dataset/single_prediction/cat_or_dog_2.jpg')"
   ]
  },
  {
   "cell_type": "code",
   "execution_count": null,
   "metadata": {
    "id": "J-mFGNfparvx"
   },
   "outputs": [],
   "source": [
    "Pred('/content/drive/My Drive/dataset/single_prediction/happy102.jpg')"
   ]
  },
  {
   "cell_type": "code",
   "execution_count": null,
   "metadata": {
    "id": "WIHeNf1FbEIo"
   },
   "outputs": [],
   "source": [
    "Pred('/content/drive/My Drive/dataset/single_prediction/happy103.jpg')"
   ]
  },
  {
   "cell_type": "code",
   "execution_count": null,
   "metadata": {
    "id": "n6yXMxJLbW9V"
   },
   "outputs": [],
   "source": [
    "Pred('/content/drive/My Drive/dataset/single_prediction/sad101.jpg')"
   ]
  },
  {
   "cell_type": "code",
   "execution_count": null,
   "metadata": {
    "id": "sWv4VEoTB1cs"
   },
   "outputs": [],
   "source": []
  }
 ],
 "metadata": {
  "accelerator": "GPU",
  "colab": {
   "authorship_tag": "ABX9TyMJcXqRRlw7bySxELajhFCJ",
   "collapsed_sections": [],
   "name": "Emotion-GitHub.ipynb",
   "provenance": [
    {
     "file_id": "1tkaq8x4GvvT-PvwNbdWqSq9JuHQ4_79x",
     "timestamp": 1611482854871
    },
    {
     "file_id": "1Qyc1rrfZ2up6ZPGSYJgRfL9CLKFV_uOz",
     "timestamp": 1592311799810
    }
   ],
   "toc_visible": true
  },
  "kernelspec": {
   "display_name": "Python 3",
   "language": "python",
   "name": "python3"
  },
  "language_info": {
   "codemirror_mode": {
    "name": "ipython",
    "version": 3
   },
   "file_extension": ".py",
   "mimetype": "text/x-python",
   "name": "python",
   "nbconvert_exporter": "python",
   "pygments_lexer": "ipython3",
   "version": "3.8.3"
  }
 },
 "nbformat": 4,
 "nbformat_minor": 1
}
